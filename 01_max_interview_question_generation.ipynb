{
  "cells": [
    {
      "cell_type": "markdown",
      "metadata": {
        "id": "HyMjK0EXTQkl"
      },
      "source": [
        "# Interview Question Generation\n",
        "`Author: Maxwel Ochieng`"
      ]
    },
    {
      "cell_type": "code",
      "execution_count": null,
      "metadata": {
        "id": "XebRYyrWTQkt",
        "outputId": "8dd4f40c-3843-42ae-8661-60fd29d1d6b2"
      },
      "outputs": [
        {
          "name": "stderr",
          "output_type": "stream",
          "text": [
            "/home/abdulazeezoj/Devspace/Work/omdena/local-chapter/india-chapter/chatbot-interview-prep/.venv/lib/python3.10/site-packages/tqdm/auto.py:21: TqdmWarning: IProgress not found. Please update jupyter and ipywidgets. See https://ipywidgets.readthedocs.io/en/stable/user_install.html\n",
            "  from .autonotebook import tqdm as notebook_tqdm\n"
          ]
        }
      ],
      "source": [
        "import json\n",
        "from pprint import pprint\n",
        "from types import ModuleType\n",
        "from typing import Any, Literal\n",
        "\n",
        "import cohere  # type: ignore\n",
        "import google.generativeai as GooglePalm  # type: ignore\n",
        "from openai import OpenAI\n",
        "from openai.types.chat.chat_completion import ChatCompletion\n",
        "from pydantic import BaseModel"
      ]
    },
    {
      "cell_type": "code",
      "execution_count": null,
      "metadata": {
        "id": "bb5FM8LrTQkx"
      },
      "outputs": [],
      "source": [
        "COHERE_API_KEY = \"YOUR_COHERE_API_KEY\"\n",
        "OPENAI_API_KEY = \"YOUR_OPENAI_API_KEY\"\n",
        "PALM_API_KEY = \"YOUR_PALM_API_KEY\""
      ]
    },
    {
      "cell_type": "code",
      "execution_count": null,
      "metadata": {
        "id": "L3YSGVJiTQky"
      },
      "outputs": [],
      "source": [
        "class Question(BaseModel):\n",
        "    question: str\n",
        "    type: Literal[\"personal\", \"role-specific\", \"behavioral\", \"situational\"]"
      ]
    },
    {
      "cell_type": "markdown",
      "metadata": {
        "id": "4SrsL9HpTQky"
      },
      "source": [
        "## OpenAI Interview Question Generation"
      ]
    },
    {
      "cell_type": "code",
      "execution_count": null,
      "metadata": {
        "id": "K3ARyF3pTQkz"
      },
      "outputs": [],
      "source": [
        "class OpenAIQuestionGeneratorAgent:\n",
        "    def __init__(self) -> None:\n",
        "        self.client = OpenAI(api_key=OPENAI_API_KEY)\n",
        "        self.system_prompt = \"\"\"You are a non-technical interviewer that interviews \\\n",
        "across the following categories:\n",
        "- personal\n",
        "- role-specific\n",
        "- behavioural\n",
        "- situational\n",
        "\n",
        "You will be provided with a candidate's description.\n",
        "\n",
        "Generate {n_questions} questions, ensuring that there is a question for each category \\\n",
        "and the questions should be based on the candidate's description.\n",
        "\n",
        "* You answer strictly as a list of JSON objects. Don't include any other verbose texts, \\\n",
        "and don't include the markdown syntax anywhere.\n",
        "\n",
        "JSON format:\n",
        "[\n",
        "    {{\"question\": \"<personal_question>\", \"type\": \"personal\"}},\n",
        "    {{\"question\": \"<role_specific_question>\", \"type\": \"role-specific\"}},\n",
        "    {{\"question\": \"<behavioural_question>\", \"type\": \"behavioural\"}},\n",
        "    {{\"question\": \"<situational_question>\", \"type\": \"situational\"}},\n",
        "    ...more questions to make up {n_questions} questions\n",
        "]\"\"\"\n",
        "\n",
        "        self.user_prompt = \"Candidate Description:\\n{description}\"\n",
        "\n",
        "    def __call__(self, description: str, n_questions: int = 4) -> list[Question] | None:\n",
        "        \"\"\"\n",
        "        Generate interview questions based on the given description.\n",
        "\n",
        "        Args:\n",
        "            description (str): The description used as input for question generation.\n",
        "            n_questions (int, optional): The number of questions to generate. Defaults to 4.\n",
        "\n",
        "        Returns:\n",
        "            list[Question] | None: A list of generated interview questions or \\\n",
        "                None if an error occurs.\n",
        "        \"\"\"\n",
        "\n",
        "        # Generate questions\n",
        "        questions: list[Question] | None = self._generate(description, n_questions)\n",
        "\n",
        "        return questions\n",
        "\n",
        "    def run(self, description: str, n_questions: int = 4) -> list[Question] | None:\n",
        "        \"\"\"\n",
        "        Generate interview questions based on the given description.\n",
        "\n",
        "        Args:\n",
        "            description (str): The description used as input for question generation.\n",
        "            n_questions (int, optional): The number of questions to generate. Defaults to 4.\n",
        "\n",
        "        Returns:\n",
        "            list[Question] | None: A list of generated interview questions or \\\n",
        "                None if an error occurs.\n",
        "        \"\"\"\n",
        "\n",
        "        # Generate questions\n",
        "        questions: list[Question] | None = self._generate(description, n_questions)\n",
        "\n",
        "        return questions\n",
        "\n",
        "    def _generate(self, description: str, n_questions: int) -> list[Question] | None:\n",
        "        \"\"\"\n",
        "        Generate interview questions based on the given description.\n",
        "\n",
        "        Args:\n",
        "            description (str): The description used as input for question generation.\n",
        "            n_questions (int): The number of questions to generate.\n",
        "\n",
        "        Returns:\n",
        "            list[Question] | None: A list of generated interview questions or \\\n",
        "                None if an error occurs.\n",
        "        \"\"\"\n",
        "\n",
        "        try:\n",
        "            # Ensure that there are at least 4 questions\n",
        "            if n_questions < 4:\n",
        "                n_questions = 4\n",
        "\n",
        "            output: ChatCompletion = self.client.chat.completions.create(\n",
        "                model=\"gpt-3.5-turbo-1106\",\n",
        "                messages=[\n",
        "                    {\n",
        "                        \"role\": \"system\",\n",
        "                        \"content\": self.system_prompt.format(n_questions=n_questions),\n",
        "                    },\n",
        "                    {\n",
        "                        \"role\": \"user\",\n",
        "                        \"content\": self.user_prompt.format(description=description),\n",
        "                    },\n",
        "                ],\n",
        "                temperature=0.5,\n",
        "                max_tokens=1024,\n",
        "                top_p=1,\n",
        "                frequency_penalty=0,\n",
        "                presence_penalty=0,\n",
        "            )\n",
        "\n",
        "            if output.choices[0].finish_reason != \"stop\":\n",
        "                return None\n",
        "\n",
        "            if not output.choices[0].message.content:\n",
        "                return None\n",
        "\n",
        "            questions: list[Question] = json.loads(output.choices[0].message.content)\n",
        "\n",
        "            return questions\n",
        "        except Exception:\n",
        "            return None"
      ]
    },
    {
      "cell_type": "code",
      "execution_count": null,
      "metadata": {
        "id": "Fykz7rUGTQk0",
        "outputId": "48b64da5-521f-48d6-9031-6bbea008ccad"
      },
      "outputs": [
        {
          "name": "stdout",
          "output_type": "stream",
          "text": [
            "[{'question': 'What motivated you to pursue a career in software engineering?',\n",
            "  'type': 'personal'},\n",
            " {'question': 'Can you describe a challenging technical problem you solved at '\n",
            "              'your previous startup?',\n",
            "  'type': 'role-specific'},\n",
            " {'question': 'How do you handle tight deadlines and multiple projects '\n",
            "              'simultaneously?',\n",
            "  'type': 'behavioural'},\n",
            " {'question': 'If you were the only software engineer on a project and faced a '\n",
            "              'roadblock, how would you approach solving the issue?',\n",
            "  'type': 'situational'},\n",
            " {'question': 'How do you stay updated with the latest technologies and '\n",
            "              'industry trends in software engineering?',\n",
            "  'type': 'role-specific'}]\n"
          ]
        }
      ],
      "source": [
        "question_generator = OpenAIQuestionGeneratorAgent()\n",
        "questions: list[Question] | None = question_generator.run(\n",
        "    \"a software engineer at a startup in San Francisco. I have 5 years of \"\n",
        "    \"experience and I'm looking for a new job.\",\n",
        "    5,\n",
        ")\n",
        "\n",
        "pprint(questions)"
      ]
    },
    {
      "cell_type": "code",
      "execution_count": null,
      "metadata": {
        "id": "TXSCn7uMTQk1",
        "outputId": "cf8322b9-f1a1-4139-daa5-030bbe719105"
      },
      "outputs": [
        {
          "name": "stdout",
          "output_type": "stream",
          "text": [
            "[{'question': 'What inspired you to pursue a career in data science?',\n",
            "  'type': 'personal'},\n",
            " {'question': 'Can you describe a specific project where you implemented a '\n",
            "              'recommendation engine?',\n",
            "  'type': 'role-specific'},\n",
            " {'question': 'How do you typically approach problem-solving in your data '\n",
            "              'science work?',\n",
            "  'type': 'behavioural'},\n",
            " {'question': 'Tell me about a time when you had to lead a team of data '\n",
            "              'scientists and engineers to accomplish a project goal.',\n",
            "  'type': 'situational'},\n",
            " {'question': 'What are the key skills you believe are essential for a '\n",
            "              'successful data scientist?',\n",
            "  'type': 'personal'},\n",
            " {'question': 'Can you provide an example of a challenging problem you '\n",
            "              'encountered in a data science project and how you overcame it?',\n",
            "  'type': 'behavioural'},\n",
            " {'question': 'How do you prioritize tasks and manage deadlines when leading a '\n",
            "              'team on multiple projects?',\n",
            "  'type': 'situational'},\n",
            " {'question': 'In your experience, what are some common pitfalls to avoid when '\n",
            "              'developing a recommendation engine for an e-commerce company?',\n",
            "  'type': 'role-specific'}]\n"
          ]
        }
      ],
      "source": [
        "questions = question_generator.run(\n",
        "    \"a data scientist from India. I have 3 years of experience. I've worked on a variety of projects, including a recommendation engine for a large e-commerce company. I've led a team of 5 data scientists and engineers.\",\n",
        "    8,\n",
        ")\n",
        "\n",
        "pprint(questions)"
      ]
    },
    {
      "cell_type": "markdown",
      "metadata": {
        "id": "7wj99v6KTQk3"
      },
      "source": [
        "## Google Palm Interview Question Generation"
      ]
    },
    {
      "cell_type": "code",
      "execution_count": null,
      "metadata": {
        "id": "sK4OjlkpTQk4"
      },
      "outputs": [],
      "source": [
        "class PalmQuestionGeneratorAgent:\n",
        "    def __init__(self) -> None:\n",
        "        self.client: ModuleType = GooglePalm\n",
        "        self.client.configure(api_key=PALM_API_KEY)  # type: ignore\n",
        "        self.system_prompt = \"\"\"You are a non-technical interviewer that interviews \\\n",
        "across the following categories:\n",
        "- personal\n",
        "- role-specific\n",
        "- behavioural\n",
        "- situational\n",
        "\n",
        "You will be provided with a candidate's description.\n",
        "\n",
        "Generate {n_questions} questions, ensuring that there is a question for each category \\\n",
        "and the questions should be based on the candidate's description.\n",
        "\n",
        "* You answer strictly as a list of JSON objects. Don't include any other verbose texts, \\\n",
        "and don't include the markdown syntax anywhere.\n",
        "\n",
        "JSON format:\n",
        "[\n",
        "    {{\"question\": \"<personal_question>\", \"type\": \"personal\"}},\n",
        "    {{\"question\": \"<role_specific_question>\", \"type\": \"role-specific\"}},\n",
        "    {{\"question\": \"<behavioural_question>\", \"type\": \"behavioural\"}},\n",
        "    {{\"question\": \"<situational_question>\", \"type\": \"situational\"}},\n",
        "    ...more questions to make up {n_questions} questions\n",
        "]\n",
        "\n",
        "\n",
        "===\n",
        "Candidate Description:\n",
        "{description}\"\"\"\n",
        "\n",
        "    def __call__(self, description: str, n_questions: int = 4) -> list[Question] | None:\n",
        "        \"\"\"\n",
        "        Generate interview questions based on the given description.\n",
        "\n",
        "        Args:\n",
        "            description (str): The description used as input for question generation.\n",
        "            n_questions (int, optional): The number of questions to generate. Defaults to 4.\n",
        "\n",
        "        Returns:\n",
        "            list[Question] | None: A list of generated interview questions or \\\n",
        "                None if an error occurs.\n",
        "        \"\"\"\n",
        "\n",
        "        # Generate questions\n",
        "        questions: list[Question] | None = self._generate(description, n_questions)\n",
        "\n",
        "        return questions\n",
        "\n",
        "    def run(self, description: str, n_questions: int = 4) -> list[Question] | None:\n",
        "        \"\"\"\n",
        "        Generate interview questions based on the given description.\n",
        "\n",
        "        Args:\n",
        "            description (str): The description used as input for question generation.\n",
        "            n_questions (int, optional): The number of questions to generate. Defaults to 4.\n",
        "\n",
        "        Returns:\n",
        "            list[Question] | None: A list of generated interview questions or \\\n",
        "                None if an error occurs.\n",
        "        \"\"\"\n",
        "\n",
        "        # Generate questions\n",
        "        questions: list[Question] | None = self._generate(description, n_questions)\n",
        "\n",
        "        return questions\n",
        "\n",
        "    def _generate(self, description: str, n_questions: int) -> list[Question] | None:\n",
        "        \"\"\"\n",
        "        Generate interview questions based on the given description.\n",
        "\n",
        "        Args:\n",
        "            description (str): The description used as input for question generation.\n",
        "            n_questions (int): The number of questions to generate.\n",
        "\n",
        "        Returns:\n",
        "            list[Question] | None: A list of generated interview questions or \\\n",
        "                None if an error occurs.\n",
        "        \"\"\"\n",
        "\n",
        "        try:\n",
        "            # Ensure that there are at least 4 questions\n",
        "            if n_questions < 4:\n",
        "                n_questions = 4\n",
        "\n",
        "            output: Any = self.client.generate_text(\n",
        "                model=\"models/text-bison-001\",\n",
        "                prompt=self.system_prompt.format(\n",
        "                    n_questions=n_questions, description=description\n",
        "                ),\n",
        "                temperature=1,\n",
        "                max_output_tokens=1024,\n",
        "            )\n",
        "\n",
        "            if not output.result:\n",
        "                return None\n",
        "\n",
        "            questions: list[Question] = json.loads(output.result)\n",
        "\n",
        "            return questions\n",
        "        except Exception:\n",
        "            return None"
      ]
    },
    {
      "cell_type": "code",
      "execution_count": null,
      "metadata": {
        "id": "VfKqxTDfTQk5",
        "outputId": "68be9666-f98d-4bb3-a8b3-747a6bfed8e3"
      },
      "outputs": [
        {
          "name": "stdout",
          "output_type": "stream",
          "text": [
            "[{'question': 'What are your career goals?', 'type': 'personal'},\n",
            " {'question': 'What are your salary expectations?', 'type': 'role-specific'},\n",
            " {'question': 'Tell me about a time when you had to work on a team project and '\n",
            "              'you disagreed with a teammate about how to proceed. How did you '\n",
            "              'resolve the disagreement?',\n",
            "  'type': 'behavioural'},\n",
            " {'question': \"What would you do if you were given a project that you didn't \"\n",
            "              'have the skills to complete?',\n",
            "  'type': 'situational'},\n",
            " {'question': 'Why did you leave your last job?', 'type': 'personal'}]\n"
          ]
        }
      ],
      "source": [
        "question_generator = PalmQuestionGeneratorAgent()\n",
        "questions: list[Question] | None = question_generator.run(\n",
        "    \"a software engineer at a startup in San Francisco. I have 5 years of \"\n",
        "    \"experience and I'm looking for a new job.\",\n",
        "    5,\n",
        ")\n",
        "\n",
        "pprint(questions)"
      ]
    },
    {
      "cell_type": "code",
      "execution_count": null,
      "metadata": {
        "id": "9rDfUd5-TQk7",
        "outputId": "a4f4ec1f-5990-478b-82ca-c6f474c2fa53"
      },
      "outputs": [
        {
          "name": "stdout",
          "output_type": "stream",
          "text": [
            "[{'question': 'What is your greatest weakness?', 'type': 'personal'},\n",
            " {'question': 'What is your greatest strength?', 'type': 'personal'},\n",
            " {'question': 'What are your salary expectations?', 'type': 'personal'},\n",
            " {'question': 'What are your long-term career goals?', 'type': 'personal'},\n",
            " {'question': 'Why are you interested in this position?',\n",
            "  'type': 'role-specific'},\n",
            " {'question': 'What are your experiences with machine learning?',\n",
            "  'type': 'role-specific'},\n",
            " {'question': 'What are your experiences with deep learning?',\n",
            "  'type': 'role-specific'},\n",
            " {'question': 'How would you handle a situation where your team is not meeting '\n",
            "              'deadlines?',\n",
            "  'type': 'situational'},\n",
            " {'question': 'How would you handle a situation where your boss is asking you '\n",
            "              'to do something that you believe is unethical?',\n",
            "  'type': 'situational'},\n",
            " {'question': 'What is your greatest accomplishment?', 'type': 'behavioural'},\n",
            " {'question': 'What is your biggest failure?', 'type': 'behavioural'},\n",
            " {'question': 'What are your thoughts on the future of data science?',\n",
            "  'type': 'behavioural'}]\n"
          ]
        }
      ],
      "source": [
        "questions: list[Question] | None = question_generator.run(\n",
        "    (\n",
        "        \"a data scientist from India. I have 3 years of experience. I've worked on \"\n",
        "        \"a variety of projects, including a recommendation engine for a large \"\n",
        "        \"e-commerce company. I've led a team of 5 data scientists and engineers.\"\n",
        "    ),\n",
        "    8,\n",
        ")\n",
        "\n",
        "pprint(questions)"
      ]
    },
    {
      "cell_type": "markdown",
      "metadata": {
        "id": "PvhOUW-7TQk8"
      },
      "source": [
        "## Cohere Interview Question Generation"
      ]
    },
    {
      "cell_type": "code",
      "execution_count": null,
      "metadata": {
        "id": "VjvroMSeTQk9"
      },
      "outputs": [],
      "source": [
        "class CohereQuestionGeneratorAgent:\n",
        "    def __init__(self) -> None:\n",
        "        self.client: Any = cohere.Client(api_key=COHERE_API_KEY)  # type: ignore\n",
        "        self.system_prompt = \"\"\"You are a non-technical interviewer that interviews \\\n",
        "across the following categories:\n",
        "- personal\n",
        "- role-specific\n",
        "- behavioural\n",
        "- situational\n",
        "\n",
        "You will be provided with a candidate's description.\n",
        "\n",
        "Generate {n_questions} questions, ensuring that there is a question for each category \\\n",
        "and the questions should be based on the candidate's description.\n",
        "\n",
        "* You answer strictly as a list of JSON objects. Don't include any other verbose texts, \\\n",
        "and don't include the markdown syntax anywhere.\n",
        "\n",
        "JSON format:\n",
        "[\n",
        "    {{\"question\": \"<personal_question>\", \"type\": \"personal\"}},\n",
        "    {{\"question\": \"<role_specific_question>\", \"type\": \"role-specific\"}},\n",
        "    {{\"question\": \"<behavioural_question>\", \"type\": \"behavioural\"}},\n",
        "    {{\"question\": \"<situational_question>\", \"type\": \"situational\"}},\n",
        "    ...more questions to make up {n_questions} questions\n",
        "]\n",
        "\n",
        "\n",
        "===\n",
        "Candidate Description:\n",
        "{description}\"\"\"\n",
        "\n",
        "    def __call__(self, description: str, n_questions: int = 4) -> list[Question] | None:\n",
        "        \"\"\"\n",
        "        Generate interview questions based on the given description.\n",
        "\n",
        "        Args:\n",
        "            description (str): The description used as input for question generation.\n",
        "            n_questions (int, optional): The number of questions to generate. Defaults to 4.\n",
        "\n",
        "        Returns:\n",
        "            list[Question] | None: A list of generated interview questions or \\\n",
        "                None if an error occurs.\n",
        "        \"\"\"\n",
        "\n",
        "        # Generate questions\n",
        "        questions: list[Question] | None = self._generate(description, n_questions)\n",
        "\n",
        "        return questions\n",
        "\n",
        "    def run(self, description: str, n_questions: int = 4) -> list[Question] | None:\n",
        "        \"\"\"\n",
        "        Generate interview questions based on the given description.\n",
        "\n",
        "        Args:\n",
        "            description (str): The description used as input for question generation.\n",
        "            n_questions (int, optional): The number of questions to generate. Defaults to 4.\n",
        "\n",
        "        Returns:\n",
        "            list[Question] | None: A list of generated interview questions or \\\n",
        "                None if an error occurs.\n",
        "        \"\"\"\n",
        "\n",
        "        # Generate questions\n",
        "        questions: list[Question] | None = self._generate(description, n_questions)\n",
        "\n",
        "        return questions\n",
        "\n",
        "    def _generate(self, description: str, n_questions: int) -> list[Question] | None:\n",
        "        \"\"\"\n",
        "        Generate interview questions based on the given description.\n",
        "\n",
        "        Args:\n",
        "            description (str): The description used as input for question generation.\n",
        "            n_questions (int): The number of questions to generate.\n",
        "\n",
        "        Returns:\n",
        "            list[Question] | None: A list of generated interview questions or \\\n",
        "                None if an error occurs.\n",
        "        \"\"\"\n",
        "\n",
        "        try:\n",
        "            # Ensure that there are at least 4 questions\n",
        "            if n_questions < 4:\n",
        "                n_questions = 4\n",
        "\n",
        "            output: Any = self.client.generate(\n",
        "                model=\"command\",\n",
        "                prompt=self.system_prompt.format(\n",
        "                    n_questions=n_questions, description=description\n",
        "                ),\n",
        "                temperature=1,\n",
        "                max_tokens=1024,\n",
        "            )\n",
        "\n",
        "            if not output.generations:\n",
        "                return None\n",
        "\n",
        "            if not output.generations[0].text:\n",
        "                return None\n",
        "\n",
        "            questions: list[Question] = json.loads(output.generations[0].text)\n",
        "\n",
        "            return questions\n",
        "        except Exception:\n",
        "            return None"
      ]
    },
    {
      "cell_type": "code",
      "execution_count": null,
      "metadata": {
        "id": "SiOdxKi5TQk9",
        "outputId": "6a7480cb-2584-4615-a5fd-2bbeb52eb836"
      },
      "outputs": [
        {
          "name": "stdout",
          "output_type": "stream",
          "text": [
            "[{'question': 'What motivated you to leave your previous role and seek out a '\n",
            "              'new opportunity?',\n",
            "  'type': 'personal'},\n",
            " {'question': 'Can you describe a time when you had to adapt to a major change '\n",
            "              'in your engineering field? What was the cause of the change and '\n",
            "              'what was your role in implementing it?',\n",
            "  'type': 'role-specific'},\n",
            " {'question': 'Tell me about a time you had a conflict with a colleague. How '\n",
            "              'did you resolve the situation?',\n",
            "  'type': 'behavioural'},\n",
            " {'question': 'What do you find most challenging about working in the San '\n",
            "              'Francisco tech scene?',\n",
            "  'type': 'situational'},\n",
            " {'question': 'Describe your experience with version control systems (e.g. '\n",
            "              'Git). How do you manage your repositories and what features do '\n",
            "              'you frequently use?',\n",
            "  'type': 'role-specific'}]\n"
          ]
        }
      ],
      "source": [
        "question_generator = CohereQuestionGeneratorAgent()\n",
        "questions: list[Question] | None = question_generator.run(\n",
        "    (\n",
        "        \"a software engineer at a startup in San Francisco. I have 5 years of \"\n",
        "        \"experience and I'm looking for a new job.\"\n",
        "    ),\n",
        "    5,\n",
        ")\n",
        "\n",
        "pprint(questions)"
      ]
    },
    {
      "cell_type": "code",
      "execution_count": null,
      "metadata": {
        "id": "qYDjvu1vTQk-",
        "outputId": "e13ba87b-2491-4372-c407-29983f7c69f8"
      },
      "outputs": [
        {
          "name": "stdout",
          "output_type": "stream",
          "text": [
            "[{'question': 'What motivated you to pursue a career in data science?',\n",
            "  'type': 'personal'},\n",
            " {'question': 'Can you describe a time when you used Python to solve a complex '\n",
            "              'data problem? What libraries or frameworks did you use, and '\n",
            "              'what was your approach to the problem?',\n",
            "  'type': 'role-specific'},\n",
            " {'question': 'How do you keep up to date with industry trends and '\n",
            "              'developments in data science?',\n",
            "  'type': 'personal'},\n",
            " {'question': 'Can you explain your experience with recommendation engines? '\n",
            "              'What challenges did you face and how did you overcome them?',\n",
            "  'type': 'role-specific'},\n",
            " {'question': 'What project have you worked on that you are most proud of and '\n",
            "              'why?',\n",
            "  'type': 'personal'},\n",
            " {'question': 'Tell me about a time when you used data visualization to solve '\n",
            "              'a problem. What kind of data did you work with, and what '\n",
            "              'visualization techniques did you use to communicate the '\n",
            "              'results?',\n",
            "  'type': 'behavioural'},\n",
            " {'question': 'As a leader, how do you encourage creativity and innovation '\n",
            "              'among your team members?',\n",
            "  'type': 'behavioural'},\n",
            " {'question': 'How do you ensure that your recommendations are ethical and '\n",
            "              'unbiased, particularly when working with sensitive data types?',\n",
            "  'type': 'situational'}]\n"
          ]
        }
      ],
      "source": [
        "questions: list[Question] | None = question_generator.run(\n",
        "    \"a data scientist from India. I have 3 years of experience. I've worked \"\n",
        "    \"on a variety of projects, including a recommendation engine for a \"\n",
        "    \"large e-commerce company. I've led a team of 5 data scientists and \"\n",
        "    \"engineers.\",\n",
        "    8,\n",
        ")\n",
        "\n",
        "pprint(questions)"
      ]
    },
    {
      "cell_type": "code",
      "execution_count": null,
      "metadata": {
        "id": "Q6CnxG0PTQk-"
      },
      "outputs": [],
      "source": []
    }
  ],
  "metadata": {
    "colab": {
      "provenance": []
    },
    "kernelspec": {
      "display_name": ".venv",
      "language": "python",
      "name": "python3"
    },
    "language_info": {
      "codemirror_mode": {
        "name": "ipython",
        "version": 3
      },
      "file_extension": ".py",
      "mimetype": "text/x-python",
      "name": "python",
      "nbconvert_exporter": "python",
      "pygments_lexer": "ipython3",
      "version": "3.10.12"
    }
  },
  "nbformat": 4,
  "nbformat_minor": 0
}
